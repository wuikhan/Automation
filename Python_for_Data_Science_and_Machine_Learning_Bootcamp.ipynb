{
  "nbformat": 4,
  "nbformat_minor": 0,
  "metadata": {
    "colab": {
      "provenance": [],
      "authorship_tag": "ABX9TyPncUny6o4azCXg3FeS5VOl",
      "include_colab_link": true
    },
    "kernelspec": {
      "name": "python3",
      "display_name": "Python 3"
    }
  },
  "cells": [
    {
      "cell_type": "markdown",
      "metadata": {
        "id": "view-in-github",
        "colab_type": "text"
      },
      "source": [
        "<a href=\"https://colab.research.google.com/github/wuikhan/Automation/blob/master/Python_for_Data_Science_and_Machine_Learning_Bootcamp.ipynb\" target=\"_parent\"><img src=\"https://colab.research.google.com/assets/colab-badge.svg\" alt=\"Open In Colab\"/></a>"
      ]
    },
    {
      "cell_type": "markdown",
      "metadata": {
        "id": "7Ve9iyO8_DuQ"
      },
      "source": [
        "* Data Types\n",
        "* Numbers\n",
        "* Strings\n",
        "* Print Formatting\n",
        "* Lists\n",
        "* Dictionaries\n",
        "* Booleans\n",
        "* Tuples and Sets\n",
        "* Comparison Operators\n",
        "* If, elif and else Statements\n",
        "* For Loops\n",
        "* While Loops\n",
        "* range()\n",
        "* List Comprehension\n",
        "* Functions\n",
        "* Lambda Expressions\n",
        "* Map and Filter\n",
        "\n"
      ]
    },
    {
      "cell_type": "code",
      "metadata": {
        "id": "rWgYw-bf9mAo",
        "colab": {
          "base_uri": "https://localhost:8080/"
        },
        "outputId": "7f0e3262-e876-4833-ccc6-d90bd2842af9"
      },
      "source": [
        "b = \"true\";\n",
        "print (b)"
      ],
      "execution_count": 2,
      "outputs": [
        {
          "output_type": "stream",
          "name": "stdout",
          "text": [
            "true\n"
          ]
        }
      ]
    },
    {
      "cell_type": "code",
      "source": [
        "5+10"
      ],
      "metadata": {
        "colab": {
          "base_uri": "https://localhost:8080/"
        },
        "id": "lYdu3ntZwek2",
        "outputId": "fc777862-c463-4328-86f4-d73cbd5961f0"
      },
      "execution_count": 3,
      "outputs": [
        {
          "output_type": "execute_result",
          "data": {
            "text/plain": [
              "15"
            ]
          },
          "metadata": {},
          "execution_count": 3
        }
      ]
    },
    {
      "cell_type": "code",
      "source": [],
      "metadata": {
        "id": "wCnCYSFtwfsH"
      },
      "execution_count": null,
      "outputs": []
    }
  ]
}